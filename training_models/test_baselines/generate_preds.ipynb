{
 "cells": [
  {
   "cell_type": "code",
   "execution_count": 1,
   "metadata": {},
   "outputs": [],
   "source": [
    "import torch\n",
    "import torch.nn as nn\n",
    "import torch.nn.functional as F\n",
    "import torch.utils.data as data\n",
    "\n",
    "import albumentations as A\n",
    "import cv2\n",
    "import numpy as np\n",
    "import skimage as ski\n",
    "\n",
    "import matplotlib.pyplot as plt\n",
    "import os\n",
    "import copy\n",
    "\n",
    "from tqdm import tqdm\n",
    "from IPython.display import clear_output\n",
    "\n",
    "import psutil\n",
    "import pynvml\n",
    "import sys\n",
    "\n",
    "import struct\n",
    "\n",
    "import sklearn.metrics as metrics\n",
    "\n",
    "sys.path.append('/home/meribejayson/Desktop/Projects/SharkCNN/training_models/dataloaders/')\n",
    "\n",
    "from test_dataset import SharkDatasetTest as SharkDataset"
   ]
  },
  {
   "cell_type": "code",
   "execution_count": 2,
   "metadata": {},
   "outputs": [],
   "source": [
    "lr_model_path = \"/home/meribejayson/Desktop/Projects/SharkCNN/training_models/LOGISTIC-REG/train-final-3/lr_weights_train_3.tar\"\n",
    "ann_model_path = \"/home/meribejayson/Desktop/Projects/SharkCNN/training_models/ANN/train-1/ann_weights_train_1.tar\"\n",
    "\n",
    "state_dict_lr = torch.load(lr_model_path)\n",
    "state_dict_ann = torch.load(ann_model_path)\n",
    "\n",
    "torch.manual_seed(12)\n",
    "\n",
    "if not torch.cuda.is_available():\n",
    "    raise Exception(\"Couldn't find CUDA\")\n",
    "\n",
    "device = torch.device(\"cuda\")\n",
    "\n",
    "pynvml.nvmlInit()\n",
    "handle = pynvml.nvmlDeviceGetHandleByIndex(0)\n",
    "\n",
    "\n",
    "image_width = 1920\n",
    "image_height = 1080\n",
    "\n",
    "target_iters = 300\n",
    "images_per_iter = 5\n",
    "\n",
    "target_sample = image_height * image_width * target_iters * images_per_iter"
   ]
  },
  {
   "cell_type": "code",
   "execution_count": 3,
   "metadata": {},
   "outputs": [],
   "source": [
    "class ANN(nn.Module):\n",
    "\n",
    "    def __init__(self, input_size):\n",
    "        super().__init__()\n",
    "        \n",
    "        hidden_layer_num = int(input_size / 2)\n",
    "\n",
    "        self.linear1 = nn.Linear(input_size, hidden_layer_num)\n",
    "        self.relu1 = nn.ReLU()\n",
    "        self.linear2 = nn.Linear(hidden_layer_num + input_size, 1)\n",
    "        self.sig = nn.Sigmoid()\n",
    "        \n",
    "\n",
    "    def forward(self, x):\n",
    "        h = self.linear1(x)\n",
    "        h = self.relu1(h)\n",
    "        h = torch.cat((x, h), dim=1)\n",
    "        h = self.linear2(h)\n",
    "        \n",
    "        return self.sig(h)"
   ]
  },
  {
   "cell_type": "code",
   "execution_count": 4,
   "metadata": {},
   "outputs": [],
   "source": [
    "class LogisticRegresion(nn.Module):\n",
    "\n",
    "    def __init__(self, input_size):\n",
    "        super().__init__()\n",
    "        \n",
    "        self.linear = nn.Linear(input_size,1)\n",
    "        self.sig = nn.Sigmoid()\n",
    "\n",
    "    def forward(self, x):\n",
    "        x = self.linear(x)\n",
    "        \n",
    "        return self.sig(x)"
   ]
  },
  {
   "cell_type": "code",
   "execution_count": 5,
   "metadata": {},
   "outputs": [],
   "source": [
    "test_dataset = SharkDataset(batch_size=images_per_iter)\n",
    "\n",
    "test_data_loader = data.DataLoader(test_dataset, batch_size=500_000, num_workers=3)"
   ]
  },
  {
   "cell_type": "code",
   "execution_count": 6,
   "metadata": {},
   "outputs": [
    {
     "data": {
      "text/plain": [
       "LogisticRegresion(\n",
       "  (linear): Linear(in_features=85, out_features=1, bias=True)\n",
       "  (sig): Sigmoid()\n",
       ")"
      ]
     },
     "execution_count": 6,
     "metadata": {},
     "output_type": "execute_result"
    }
   ],
   "source": [
    "ann_state = torch.load(\"/home/meribejayson/Desktop/Projects/SharkCNN/training_models/ANN/train-4/ann_weights_train_4.tar\")\n",
    "lr_state = torch.load(\"/home/meribejayson/Desktop/Projects/SharkCNN/training_models/LOGISTIC-REG/train-final-6/lr_weights_train_6.tar\")\n",
    "\n",
    "ann_model = ANN(85)\n",
    "ann_model.load_state_dict(ann_state)\n",
    "ann_model.to(device)\n",
    "\n",
    "\n",
    "lr_model = LogisticRegresion(85)\n",
    "lr_model.load_state_dict(lr_state)\n",
    "lr_model.to(device)\n"
   ]
  },
  {
   "cell_type": "code",
   "execution_count": 7,
   "metadata": {},
   "outputs": [],
   "source": [
    "def append_to_binary_file(file_path, ann_preds, lr_preds, labels):\n",
    "    with open(file_path, 'ab') as file:\n",
    "        len = ann_preds.shape[0]\n",
    "\n",
    "        for idx in range(len):\n",
    "            packed_data = struct.pack('ffI', ann_preds[idx], lr_preds[idx], labels[idx])\n",
    "            file.write(packed_data)"
   ]
  },
  {
   "cell_type": "code",
   "execution_count": 8,
   "metadata": {},
   "outputs": [],
   "source": [
    "def read_from_binary_file(file_path):\n",
    "    data = []\n",
    "    with open(file_path, 'rb') as file:\n",
    "        while True:\n",
    "            packed_data = file.read(12)  # 4 bytes for float, 4 bytes for float, 4 bytes for int\n",
    "            if not packed_data:\n",
    "                break\n",
    "            ann_pred, lr_pred, label = struct.unpack('ffI', packed_data)\n",
    "            data.append((ann_pred, lr_pred, label))\n",
    "    \n",
    "    # Optionally convert to NumPy arrays\n",
    "    ann_preds, lr_preds, labels = zip(*data)\n",
    "    return np.array(ann_preds), np.array(lr_preds), np.array(labels).astype(int)"
   ]
  },
  {
   "cell_type": "code",
   "execution_count": 9,
   "metadata": {},
   "outputs": [
    {
     "name": "stderr",
     "output_type": "stream",
     "text": [
      "100%|██████████| 300/300 [24:41:11<00:00, 296.24s/it]   \n"
     ]
    }
   ],
   "source": [
    "output_file_path = 'preds_labels.dat'\n",
    "\n",
    "curr_idx = 0\n",
    "\n",
    "for i in tqdm(range(target_iters)):\n",
    "    with torch.no_grad():\n",
    "        for point in test_data_loader:\n",
    "            data_inputs = point[:, :-1].to(device).float()\n",
    "            data_labels = point[:, -1].to(device).float()\n",
    "\n",
    "            labels = data_labels.to('cpu').numpy().astype(int).flatten()\n",
    "            \n",
    "            ann_preds = ann_model(data_inputs).to('cpu').numpy().flatten()\n",
    "            lr_preds = lr_model(data_inputs).to('cpu').numpy().flatten()\n",
    "\n",
    "\n",
    "            append_to_binary_file(output_file_path, ann_preds, lr_preds, labels)\n"
   ]
  },
  {
   "cell_type": "code",
   "execution_count": 10,
   "metadata": {},
   "outputs": [],
   "source": [
    "preds_ann, preds_lr, all_labels = read_from_binary_file(output_file_path)"
   ]
  },
  {
   "cell_type": "code",
   "execution_count": null,
   "metadata": {},
   "outputs": [],
   "source": [
    "precision_ann, recall_ann, pr_thresh_ann = metrics.precision_recall_curve(all_labels, preds_ann)\n",
    "precision_lr, recall_lr, pr_thresh_lr = metrics.precision_recall_curve(all_labels, preds_lr)"
   ]
  },
  {
   "cell_type": "code",
   "execution_count": null,
   "metadata": {},
   "outputs": [],
   "source": [
    "pr_plot_ann = metrics.PrecisionRecallDisplay(precision=precision_ann, recall=recall_ann)\n",
    "pr_plot_ann.plot()\n",
    "plt.title('Precision-Recall ANN')\n",
    "plt.show()\n",
    "plt.clf()\n",
    "\n",
    "pr_plot_lr = metrics.PrecisionRecallDisplay(precision=precision_lr, recall=recall_lr)\n",
    "pr_plot_lr.plot()\n",
    "plt.title('Precision-Recall LR')\n",
    "plt.show()\n",
    "plt.clf()"
   ]
  },
  {
   "cell_type": "code",
   "execution_count": null,
   "metadata": {},
   "outputs": [],
   "source": [
    "fpr_ann, tpr_ann, tp_thresh_ann = metrics.roc_curve(all_labels, preds_ann)\n",
    "fpr_lr, tpr_lr, tp_thresh_lr = metrics.roc_curve(all_labels, preds_lr)"
   ]
  },
  {
   "cell_type": "code",
   "execution_count": null,
   "metadata": {},
   "outputs": [],
   "source": [
    "roc_plot_ann = metrics.RocCurveDisplay(fpr=fpr_ann, tpr=tpr_ann)\n",
    "roc_plot_ann.plot()\n",
    "plt.title('ROC ANN')\n",
    "plt.show()\n",
    "plt.clf()\n",
    "\n",
    "\n",
    "roc_plot_lr = metrics.RocCurveDisplay(fpr=fpr_lr, tpr=tpr_lr)\n",
    "roc_plot_lr.plot()\n",
    "plt.title('ROC LR')\n",
    "plt.show()\n",
    "plt.clf()"
   ]
  },
  {
   "cell_type": "code",
   "execution_count": null,
   "metadata": {},
   "outputs": [],
   "source": [
    "roc_auc_score_ann = metrics.roc_auc_score(all_labels, preds_ann)\n",
    "roc_auc_score_lr = metrics.roc_auc_score(all_labels, preds_lr)\n",
    "\n",
    "print(f\"The area under the ANN ROC curve is {roc_auc_score_ann}\\nThe area under the LR ROC curve is {roc_auc_score_lr}\")"
   ]
  },
  {
   "cell_type": "code",
   "execution_count": null,
   "metadata": {},
   "outputs": [],
   "source": [
    "f1_score_ann = (2 * precision_ann * recall_ann) / (precision_ann + recall_ann)\n",
    "f1_score_lr = (2 * precision_lr * recall_lr) / (precision_lr + recall_lr)"
   ]
  },
  {
   "cell_type": "code",
   "execution_count": null,
   "metadata": {},
   "outputs": [],
   "source": [
    "plt.figure(figsize=(12, 8))\n",
    "plt.plot(pr_thresh_ann, f1_score_ann, color='blue')\n",
    "\n",
    "plt.xlabel('Confidence')\n",
    "plt.ylabel('F1-Score')\n",
    "plt.title('F1-Score ANN')\n",
    "plt.show()\n",
    "\n",
    "plt.clf()\n",
    "\n",
    "plt.figure(figsize=(12, 8))\n",
    "plt.plot(pr_thresh_lr, f1_score_lr, color='blue')\n",
    "\n",
    "\n",
    "plt.xlabel('Confidence')\n",
    "plt.ylabel('F1-Score')\n",
    "plt.title('F1-Score LR')\n",
    "plt.show()\n",
    "\n",
    "plt.clf()"
   ]
  },
  {
   "cell_type": "code",
   "execution_count": null,
   "metadata": {},
   "outputs": [],
   "source": [
    "confs = [0.5, 0.55, 0.60, 0.65, 0.7, 0.75, 0.8, 0.85, 0.9, 0.95]\n",
    "\n",
    "map_50_ann = 0\n",
    "map_50_95_ann = 0\n",
    "map_50_lr = 0\n",
    "map_50_95_lr = 0\n",
    "\n",
    "map_temp_lr = 0\n",
    "\n",
    "map_50_lr = np.mean(precision_lr[pr_thresh_lr > 0.5])\n",
    "map_50_ann = np.mean(precision_ann[pr_thresh_ann > 0.5])\n",
    "\n",
    "for conf in confs:\n",
    "    map_50_95_lr += np.mean(precision_lr[pr_thresh_lr > conf])\n",
    "    map_50_95_ann += np.mean(precision_ann[pr_thresh_ann > conf])\n",
    "\n",
    "print(\"ANN:\")\n",
    "print(f\"MAP50: {map_50_ann} MAP50-95: {map_50_95_ann}\\n\")\n",
    "\n",
    "print(\"LR:\")\n",
    "print(f\"MAP50: {map_50_lr} MAP50-95: {map_50_95_lr}\")"
   ]
  }
 ],
 "metadata": {
  "kernelspec": {
   "display_name": "cs229proj",
   "language": "python",
   "name": "python3"
  },
  "language_info": {
   "codemirror_mode": {
    "name": "ipython",
    "version": 3
   },
   "file_extension": ".py",
   "mimetype": "text/x-python",
   "name": "python",
   "nbconvert_exporter": "python",
   "pygments_lexer": "ipython3",
   "version": "3.9.18"
  }
 },
 "nbformat": 4,
 "nbformat_minor": 2
}
