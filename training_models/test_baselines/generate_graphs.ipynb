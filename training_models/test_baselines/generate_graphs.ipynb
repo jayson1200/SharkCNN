{
 "cells": [
  {
   "cell_type": "code",
   "execution_count": 1,
   "metadata": {},
   "outputs": [],
   "source": [
    "import torch\n",
    "import torch.nn as nn\n",
    "import torch.nn.functional as F\n",
    "import torch.utils.data as data\n",
    "\n",
    "import albumentations as A\n",
    "import cv2\n",
    "import numpy as np\n",
    "import skimage as ski\n",
    "\n",
    "import matplotlib.pyplot as plt\n",
    "import os\n",
    "import copy\n",
    "\n",
    "from tqdm import tqdm\n",
    "from IPython.display import clear_output\n",
    "\n",
    "import psutil\n",
    "import pynvml\n",
    "import sys\n",
    "\n",
    "import struct\n",
    "\n",
    "import sklearn.metrics as metrics\n",
    "\n",
    "import gc\n",
    "\n",
    "sys.path.append('/home/meribejayson/Desktop/Projects/SharkCNN/training_models/dataloaders/')\n",
    "\n",
    "\n",
    "from test_dataset import SharkDatasetTest as SharkDataset"
   ]
  },
  {
   "cell_type": "code",
   "execution_count": 2,
   "metadata": {},
   "outputs": [],
   "source": [
    "output_file_path = 'preds_labels.dat'\n",
    "\n",
    "pynvml.nvmlInit()\n",
    "handle = pynvml.nvmlDeviceGetHandleByIndex(0)\n",
    "\n",
    "image_width = 1920\n",
    "image_height = 1080\n",
    "\n",
    "target_iters = 300\n",
    "images_per_iter = 5\n",
    "\n",
    "target_sample = image_height * image_width * target_iters * images_per_iter"
   ]
  },
  {
   "cell_type": "code",
   "execution_count": 3,
   "metadata": {},
   "outputs": [],
   "source": [
    "def read_from_binary_file(file_path):\n",
    "    dt = np.dtype([('ann_pred', np.float32), ('lr_pred', np.float32), ('label', np.uint32)])\n",
    "    \n",
    "    record_size = dt.itemsize\n",
    "\n",
    "    total_records = os.path.getsize(file_path) // record_size\n",
    "\n",
    "    quarter_records = total_records // 8\n",
    "\n",
    "    data = np.memmap(file_path, dtype=dt, mode='r', shape=(quarter_records,))\n",
    "    \n",
    "    ann_preds = data['ann_pred']\n",
    "    lr_preds = data['lr_pred']\n",
    "    labels = data['label'].astype(int)\n",
    "    \n",
    "    return ann_preds, lr_preds, labels"
   ]
  },
  {
   "cell_type": "code",
   "execution_count": 4,
   "metadata": {},
   "outputs": [],
   "source": [
    "preds_ann, preds_lr, all_labels = read_from_binary_file(output_file_path)"
   ]
  },
  {
   "cell_type": "code",
   "execution_count": 5,
   "metadata": {},
   "outputs": [],
   "source": [
    "precision_ann, recall_ann, pr_thresh_ann = metrics.precision_recall_curve(all_labels, preds_ann)"
   ]
  },
  {
   "cell_type": "code",
   "execution_count": null,
   "metadata": {},
   "outputs": [],
   "source": [
    "pr_plot_ann = metrics.PrecisionRecallDisplay(precision=precision_ann, recall=recall_ann)\n",
    "pr_plot_ann.plot()\n",
    "plt.title('Precision-Recall ANN')\n",
    "plt.show()\n",
    "plt.clf()"
   ]
  },
  {
   "cell_type": "code",
   "execution_count": null,
   "metadata": {},
   "outputs": [],
   "source": [
    "f1_score_ann = (2 * precision_ann * recall_ann) / (precision_ann + recall_ann)"
   ]
  },
  {
   "cell_type": "code",
   "execution_count": null,
   "metadata": {},
   "outputs": [],
   "source": [
    "plt.figure(figsize=(12, 8))\n",
    "plt.plot(pr_thresh_ann, f1_score_ann[:-1], color='blue')\n",
    "\n",
    "plt.xlabel('Confidence')\n",
    "plt.ylabel('F1-Score')\n",
    "plt.title('F1-Score ANN')\n",
    "plt.show()\n",
    "\n",
    "plt.clf()"
   ]
  },
  {
   "cell_type": "code",
   "execution_count": null,
   "metadata": {},
   "outputs": [],
   "source": [
    "del f1_score_ann\n",
    "\n",
    "gc.collect()"
   ]
  },
  {
   "cell_type": "code",
   "execution_count": 6,
   "metadata": {},
   "outputs": [
    {
     "name": "stdout",
     "output_type": "stream",
     "text": [
      "ANN:\n",
      "MAP50: 0.029351181581156672 MAP50-95: 0.022157586795707437\n",
      "\n"
     ]
    }
   ],
   "source": [
    "confs = [0.5, 0.55, 0.60, 0.65, 0.7, 0.75, 0.8, 0.85, 0.9, 0.95]\n",
    "\n",
    "map_50_ann = 0\n",
    "map_50_95_ann = 0\n",
    "\n",
    "map_50_ann = np.mean(precision_ann[:-1][pr_thresh_ann > 0.5])\n",
    "\n",
    "for conf in confs:\n",
    "    map_50_95_ann += (np.mean(precision_ann[:-1][pr_thresh_ann > conf]) / len(confs))\n",
    "\n",
    "print(\"ANN:\")\n",
    "print(f\"MAP50: {map_50_ann} MAP50-95: {map_50_95_ann}\\n\")"
   ]
  },
  {
   "cell_type": "code",
   "execution_count": null,
   "metadata": {},
   "outputs": [],
   "source": [
    "del precision_ann, recall_ann, pr_thresh_ann\n",
    "\n",
    "gc.collect()"
   ]
  },
  {
   "cell_type": "code",
   "execution_count": null,
   "metadata": {},
   "outputs": [],
   "source": [
    "fpr_ann, tpr_ann, tp_thresh_ann = metrics.roc_curve(all_labels, preds_ann)"
   ]
  },
  {
   "cell_type": "code",
   "execution_count": null,
   "metadata": {},
   "outputs": [],
   "source": [
    "roc_plot_ann = metrics.RocCurveDisplay(fpr=fpr_ann, tpr=tpr_ann)\n",
    "roc_plot_ann.plot()\n",
    "plt.title('ROC ANN')\n",
    "plt.show()\n",
    "plt.clf()"
   ]
  },
  {
   "cell_type": "code",
   "execution_count": null,
   "metadata": {},
   "outputs": [],
   "source": [
    "roc_auc_score_ann = metrics.roc_auc_score(all_labels, preds_ann)\n",
    "\n",
    "print(f\"The area under the ANN ROC curve is {roc_auc_score_ann}\")"
   ]
  },
  {
   "cell_type": "code",
   "execution_count": null,
   "metadata": {},
   "outputs": [],
   "source": [
    "del preds_ann\n",
    "del fpr_ann, tpr_ann, tp_thresh_ann\n",
    "\n",
    "gc.collect()"
   ]
  },
  {
   "cell_type": "code",
   "execution_count": null,
   "metadata": {},
   "outputs": [],
   "source": [
    "precision_lr, recall_lr, pr_thresh_lr = metrics.precision_recall_curve(all_labels, preds_lr)"
   ]
  },
  {
   "cell_type": "code",
   "execution_count": null,
   "metadata": {},
   "outputs": [],
   "source": [
    "pr_plot_lr = metrics.PrecisionRecallDisplay(precision=precision_lr, recall=recall_lr)\n",
    "pr_plot_lr.plot()\n",
    "plt.title('Precision-Recall LR')\n",
    "plt.show()\n",
    "plt.clf()"
   ]
  },
  {
   "cell_type": "code",
   "execution_count": null,
   "metadata": {},
   "outputs": [],
   "source": [
    "f1_score_lr = (2 * precision_lr * recall_lr) / (precision_lr + recall_lr)"
   ]
  },
  {
   "cell_type": "code",
   "execution_count": null,
   "metadata": {},
   "outputs": [],
   "source": [
    "plt.figure(figsize=(12, 8))\n",
    "plt.plot(pr_thresh_lr, f1_score_lr[:-1], color='blue')\n",
    "\n",
    "\n",
    "plt.xlabel('Confidence')\n",
    "plt.ylabel('F1-Score')\n",
    "plt.title('F1-Score LR')\n",
    "plt.show()\n",
    "\n",
    "plt.clf()"
   ]
  },
  {
   "cell_type": "code",
   "execution_count": null,
   "metadata": {},
   "outputs": [],
   "source": [
    "del f1_score_lr\n",
    "\n",
    "gc.collect()"
   ]
  },
  {
   "cell_type": "code",
   "execution_count": null,
   "metadata": {},
   "outputs": [],
   "source": [
    "confs = [0.5, 0.55, 0.60, 0.65, 0.7, 0.75, 0.8, 0.85, 0.9, 0.95]\n",
    "\n",
    "map_50_lr = 0\n",
    "map_50_95_lr = 0\n",
    "\n",
    "map_50_lr = np.mean(precision_lr[:-1][pr_thresh_lr > 0.5])\n",
    "\n",
    "for conf in confs:\n",
    "    map_50_95_lr += (np.mean(precision_lr[:-1][pr_thresh_lr > conf]) / len(confs))\n",
    "\n",
    "print(\"LR:\")\n",
    "print(f\"MAP50: {map_50_lr} MAP50-95: {map_50_95_lr}\\n\")"
   ]
  },
  {
   "cell_type": "code",
   "execution_count": null,
   "metadata": {},
   "outputs": [],
   "source": [
    "del precision_lr, recall_lr, pr_thresh_lr\n",
    "\n",
    "gc.collect()"
   ]
  },
  {
   "cell_type": "code",
   "execution_count": null,
   "metadata": {},
   "outputs": [],
   "source": [
    "fpr_lr, tpr_lr, tp_thresh_lr = metrics.roc_curve(all_labels, preds_lr)"
   ]
  },
  {
   "cell_type": "code",
   "execution_count": null,
   "metadata": {},
   "outputs": [],
   "source": [
    "roc_plot_lr = metrics.RocCurveDisplay(fpr=fpr_lr, tpr=tpr_lr)\n",
    "roc_plot_lr.plot()\n",
    "plt.title('ROC LR')\n",
    "plt.show()\n",
    "plt.clf()"
   ]
  },
  {
   "cell_type": "code",
   "execution_count": null,
   "metadata": {},
   "outputs": [],
   "source": [
    "roc_auc_score_lr = metrics.roc_auc_score(all_labels, preds_lr)\n",
    "\n",
    "print(f\"The area under the LR ROC curve is {roc_auc_score_lr}\")"
   ]
  }
 ],
 "metadata": {
  "kernelspec": {
   "display_name": "cs229proj",
   "language": "python",
   "name": "python3"
  },
  "language_info": {
   "codemirror_mode": {
    "name": "ipython",
    "version": 3
   },
   "file_extension": ".py",
   "mimetype": "text/x-python",
   "name": "python",
   "nbconvert_exporter": "python",
   "pygments_lexer": "ipython3",
   "version": "3.9.18"
  }
 },
 "nbformat": 4,
 "nbformat_minor": 2
}
