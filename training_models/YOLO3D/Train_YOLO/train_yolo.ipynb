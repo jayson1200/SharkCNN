{
 "cells": [
  {
   "cell_type": "code",
   "execution_count": null,
   "metadata": {},
   "outputs": [],
   "source": [
    "import torch\n",
    "import torch.utils.data as data\n",
    "import torch.nn as nn\n",
    "import torch.nn.functional as F\n",
    "\n",
    "import pynvml\n",
    "import psutil\n",
    "\n",
    "import cv2\n",
    "import numpy as np\n",
    "\n",
    "import matplotlib.pyplot as plt\n",
    "\n",
    "\n",
    "import os\n",
    "import sys\n",
    "\n",
    "from tqdm import tqdm\n",
    "from IPython.display import clear_output\n",
    "\n",
    "sys.path.append('/home/meribejayson/Desktop/Projects/SharkCNN/training_models/YOLO3D/yolo_dataloaders')\n",
    "sys.path.append(\"/home/meribejayson/Desktop/Projects/SharkCNN/training_models/YOLO3D/model_impl\")\n",
    "\n",
    "from train_dataset import SharkYOLODataset\n",
    "from yolo3d import YOLO3D\n",
    "from yolo_loss import YOLO_Loss"
   ]
  },
  {
   "cell_type": "code",
   "execution_count": null,
   "metadata": {},
   "outputs": [],
   "source": [
    "torch.manual_seed(12)\n",
    "\n",
    "if not torch.cuda.is_available():\n",
    "    raise Exception(\"Couldn't find CUDA\")\n",
    "\n",
    "device = torch.device(\"cuda\")\n",
    "\n",
    "pynvml.nvmlInit()\n",
    "handle = pynvml.nvmlDeviceGetHandleByIndex(0)"
   ]
  },
  {
   "cell_type": "code",
   "execution_count": null,
   "metadata": {},
   "outputs": [],
   "source": [
    "num_frames = 50\n",
    "first_conv_layer_size = 16"
   ]
  },
  {
   "cell_type": "code",
   "execution_count": null,
   "metadata": {},
   "outputs": [],
   "source": [
    "class YOLO_Loss(nn.Module):\n",
    "\n",
    "    def __init__(self):\n",
    "        super().__init__()\n",
    "        \n",
    "        self.high = YOLO_Loss()\n",
    "        self.mid = YOLO_Loss()\n",
    "        self.low = YOLO_Loss()\n",
    "\n",
    "    def forward(self, high, high_hat, mid, mid_hat, low, low_hat):\n",
    "        total_loss = 0\n",
    "\n",
    "        xbox_hat, xclass_hat = high_hat\n",
    "        xbox, xclass , num_pos_exps = high\n",
    "\n",
    "        total_loss += self.high(xbox, xbox_hat, xclass, xclass_hat, num_pos_exps)\n",
    "\n",
    "        xbox_hat, xclass_hat = mid_hat\n",
    "        xbox, xclass , num_pos_exps = mid\n",
    "\n",
    "        total_loss += self.high(xbox, xbox_hat, xclass, xclass_hat, num_pos_exps)\n",
    "\n",
    "        xbox_hat, xclass_hat = low_hat\n",
    "        xbox, xclass , num_pos_exps = low\n",
    "\n",
    "        total_loss += self.high(xbox, xbox_hat, xclass, xclass_hat, num_pos_exps)\n",
    "        \n",
    "        return total_loss"
   ]
  },
  {
   "cell_type": "code",
   "execution_count": null,
   "metadata": {},
   "outputs": [],
   "source": [
    "shark_dataset = SharkYOLODataset(num_frames)\n",
    "data_loader = data.DataLoader(shark_dataset, batch_size=1, num_workers=1)"
   ]
  },
  {
   "cell_type": "code",
   "execution_count": null,
   "metadata": {},
   "outputs": [],
   "source": [
    "# state_dict = torch.load(\"./train-1/ann_weights_train_1.tar\")"
   ]
  },
  {
   "cell_type": "code",
   "execution_count": null,
   "metadata": {},
   "outputs": [],
   "source": [
    "model = YOLO3D(num_frames, num_features=first_conv_layer_size)\n",
    "# model.load_state_dict(state_dict)\n",
    "model.to(device)"
   ]
  },
  {
   "cell_type": "code",
   "execution_count": null,
   "metadata": {},
   "outputs": [],
   "source": [
    "optimizer = torch.optim.Adam(model.parameters(), lr=1e-3, weight_decay=0.0001)"
   ]
  },
  {
   "cell_type": "code",
   "execution_count": null,
   "metadata": {},
   "outputs": [],
   "source": [
    "loss_module = YOLO_Loss()"
   ]
  },
  {
   "cell_type": "code",
   "execution_count": null,
   "metadata": {},
   "outputs": [],
   "source": [
    "LARGE_NUM = 2e120\n",
    "target_loss_change = 1e-6\n",
    "\n",
    "def train_model(model, optimizer, data_loader, epochs=25):\n",
    "    model.train()\n",
    "    last_average_loss = LARGE_NUM\n",
    "    curr_average_loss = 0\n",
    "\n",
    "    for epoch in tqdm(range(epochs), desc='Epoch Progress'):\n",
    "        total_iter_avg_loss = 0\n",
    "\n",
    "        # Wrapping data_loader with tqdm for visibility on each example/batch\n",
    "        for point in tqdm(data_loader, desc=f'Processing Data - Epoch {epoch+1}', leave=False):\n",
    "            exp, (low, mid, high) = point\n",
    "            low_pred, mid_pred, high_pred = model(exp)\n",
    "\n",
    "            loss = loss_module(high, high_pred, mid, mid_pred, low, low_pred)\n",
    "\n",
    "            optimizer.zero_grad()\n",
    "            loss.backward()\n",
    "            optimizer.step()\n",
    "\n",
    "            total_iter_avg_loss += loss.item()\n",
    "\n",
    "        if (epoch % 3) == 0:\n",
    "            state_dict = model.state_dict()\n",
    "            torch.save(state_dict, f\"/yolo3d_{epoch}.tar\")\n",
    "\n",
    "        last_average_loss = curr_average_loss\n",
    "        # Assuming 'data_loader' accurately represents the number of examples processed\n",
    "        curr_average_loss = total_iter_avg_loss / len(data_loader)  \n",
    "\n",
    "        print(f'Epoch: {epoch}, Last Average Loss: {last_average_loss:.6f}, Current Average Loss: {curr_average_loss:.6f}')\n",
    "        # Assuming setup for pynvml and psutil is configured\n",
    "        # print(f\"CPU Usage: {psutil.cpu_percent()}% GPU memory usage: {int(info.used / info.total * 100)}% \\n\")"
   ]
  },
  {
   "cell_type": "code",
   "execution_count": null,
   "metadata": {},
   "outputs": [],
   "source": [
    "train_model(model, optimizer, data_loader)"
   ]
  },
  {
   "cell_type": "code",
   "execution_count": null,
   "metadata": {},
   "outputs": [],
   "source": [
    "pynvml.nvmlShutdown()"
   ]
  }
 ],
 "metadata": {
  "kernelspec": {
   "display_name": "cs229proj",
   "language": "python",
   "name": "python3"
  },
  "language_info": {
   "codemirror_mode": {
    "name": "ipython",
    "version": 3
   },
   "file_extension": ".py",
   "mimetype": "text/x-python",
   "name": "python",
   "nbconvert_exporter": "python",
   "pygments_lexer": "ipython3",
   "version": "3.9.18"
  }
 },
 "nbformat": 4,
 "nbformat_minor": 2
}
