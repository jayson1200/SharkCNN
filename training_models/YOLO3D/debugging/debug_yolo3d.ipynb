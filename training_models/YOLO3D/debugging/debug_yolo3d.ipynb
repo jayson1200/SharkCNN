{
 "cells": [
  {
   "cell_type": "code",
   "execution_count": 1,
   "metadata": {},
   "outputs": [],
   "source": [
    "import sys\n",
    "sys.path.append(\"/home/meribejayson/Desktop/Projects/SharkCNN/training_models/YOLO3D/model_impl\")\n",
    "import yolo3d\n",
    "import pynvml\n",
    "import psutil\n",
    "\n",
    "sys.path.append(\"/home/meribejayson/Desktop/Projects/SharkCNN/training_models/YOLO3D/yolo_dataloaders\")\n",
    "\n",
    "from predict_dataset import SharkYOLODataset\n",
    "import cv2\n",
    "\n",
    "import torch\n",
    "import torch.utils.data as data"
   ]
  },
  {
   "cell_type": "code",
   "execution_count": 2,
   "metadata": {},
   "outputs": [],
   "source": [
    "num_frames = 50\n",
    "num_features = 16\n",
    "\n",
    "torch.manual_seed(12)\n",
    "\n",
    "if not torch.cuda.is_available():\n",
    "    raise Exception(\"Couldn't find CUDA\")\n",
    "\n",
    "device = torch.device(\"cuda\")\n",
    "\n",
    "pynvml.nvmlInit()\n",
    "handle = pynvml.nvmlDeviceGetHandleByIndex(0)"
   ]
  },
  {
   "cell_type": "code",
   "execution_count": 3,
   "metadata": {},
   "outputs": [],
   "source": [
    "shark_dataset = SharkYOLODataset(num_frames=num_frames)\n",
    "data_loader = data.DataLoader(shark_dataset, batch_size=1, num_workers=1, shuffle=True)"
   ]
  },
  {
   "cell_type": "code",
   "execution_count": 4,
   "metadata": {},
   "outputs": [],
   "source": [
    "model = yolo3d.YOLO3D(num_frames=num_frames, num_features=num_features)"
   ]
  },
  {
   "cell_type": "code",
   "execution_count": 5,
   "metadata": {},
   "outputs": [],
   "source": [
    "model = model.to(device=device)"
   ]
  },
  {
   "cell_type": "code",
   "execution_count": 6,
   "metadata": {},
   "outputs": [],
   "source": [
    "item = shark_dataset.__getitem__(90)\n",
    "\n",
    "item = item.to(device=device)"
   ]
  },
  {
   "cell_type": "code",
   "execution_count": 7,
   "metadata": {},
   "outputs": [],
   "source": [
    "\n",
    "def print_system_memory_usage():\n",
    "    memory = psutil.virtual_memory()\n",
    "    print(f\"System Memory Usage: {memory.percent}%\")\n",
    "\n",
    "def print_cpu_usage():\n",
    "    print(f\"CPU Usage: {psutil.cpu_percent()}%\")\n",
    "\n",
    "def print_gpu_memory_usage(handle):\n",
    "    info = pynvml.nvmlDeviceGetMemoryInfo(handle)\n",
    "    print(f\"GPU Memory Usage: {info.used / info.total * 100:.2f}%\")\n"
   ]
  },
  {
   "cell_type": "code",
   "execution_count": 8,
   "metadata": {},
   "outputs": [
    {
     "name": "stdout",
     "output_type": "stream",
     "text": [
      "System Memory Usage: 26.0%\n",
      "CPU Usage: 9.8%\n",
      "GPU Memory Usage: 17.77%\n",
      "System Memory Usage: 26.3%\n",
      "CPU Usage: 8.5%\n",
      "GPU Memory Usage: 78.65%\n"
     ]
    }
   ],
   "source": [
    "# Before prediction\n",
    "print_system_memory_usage()\n",
    "print_cpu_usage()\n",
    "print_gpu_memory_usage(handle)\n",
    "\n",
    "# Perform the model prediction\n",
    "model_output = model(item)\n",
    "\n",
    "# After prediction\n",
    "print_system_memory_usage()\n",
    "print_cpu_usage()\n",
    "print_gpu_memory_usage(handle)\n"
   ]
  },
  {
   "cell_type": "code",
   "execution_count": 9,
   "metadata": {},
   "outputs": [],
   "source": [
    "low_preds, mid_preds, high_preds = model_output"
   ]
  },
  {
   "cell_type": "code",
   "execution_count": 10,
   "metadata": {},
   "outputs": [
    {
     "name": "stdout",
     "output_type": "stream",
     "text": [
      "Low level feature box map torch.Size([1, 5, 68, 120]) Mid level feature box map torch.Size([1, 5, 34, 60]) High level feature box map torch.Size([1, 5, 17, 30])\n"
     ]
    }
   ],
   "source": [
    "print(f\"Low level feature box map {low_preds[0].shape} Mid level feature box map {mid_preds[0].shape} High level feature box map {high_preds[0].shape}\")"
   ]
  },
  {
   "cell_type": "code",
   "execution_count": 11,
   "metadata": {},
   "outputs": [
    {
     "name": "stdout",
     "output_type": "stream",
     "text": [
      "Low level feature class map torch.Size([1, 1, 68, 120]) Mid level feature class map torch.Size([1, 1, 34, 60]) High level feature class map torch.Size([1, 1, 17, 30])\n"
     ]
    }
   ],
   "source": [
    "print(f\"Low level feature class map {low_preds[1].shape} Mid level feature class map {mid_preds[1].shape} High level feature class map {high_preds[1].shape}\")"
   ]
  }
 ],
 "metadata": {
  "kernelspec": {
   "display_name": "cs229proj",
   "language": "python",
   "name": "python3"
  },
  "language_info": {
   "codemirror_mode": {
    "name": "ipython",
    "version": 3
   },
   "file_extension": ".py",
   "mimetype": "text/x-python",
   "name": "python",
   "nbconvert_exporter": "python",
   "pygments_lexer": "ipython3",
   "version": "3.9.18"
  }
 },
 "nbformat": 4,
 "nbformat_minor": 2
}
