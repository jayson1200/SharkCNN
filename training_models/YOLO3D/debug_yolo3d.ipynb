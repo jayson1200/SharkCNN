{
 "cells": [
  {
   "cell_type": "code",
   "execution_count": 1,
   "metadata": {},
   "outputs": [],
   "source": [
    "import  model_impl.yolo3d as yolo3d\n",
    "import sys\n",
    "import pynvml\n",
    "import psutil\n",
    "\n",
    "sys.path.append(\"/home/meribejayson/Desktop/Projects/SharkCNN/training_models/YOLO3D/yolo_dataloaders\")\n",
    "\n",
    "from predict_dataset import SharkYOLODataset\n",
    "import cv2\n",
    "\n",
    "import torch\n",
    "import torch.utils.data as data"
   ]
  },
  {
   "cell_type": "code",
   "execution_count": 2,
   "metadata": {},
   "outputs": [],
   "source": [
    "num_frames = 50\n",
    "num_features = 16\n",
    "\n",
    "torch.manual_seed(12)\n",
    "\n",
    "if not torch.cuda.is_available():\n",
    "    raise Exception(\"Couldn't find CUDA\")\n",
    "\n",
    "device = torch.device(\"cuda\")\n",
    "\n",
    "pynvml.nvmlInit()\n",
    "handle = pynvml.nvmlDeviceGetHandleByIndex(0)"
   ]
  },
  {
   "cell_type": "code",
   "execution_count": 3,
   "metadata": {},
   "outputs": [],
   "source": [
    "shark_dataset = SharkYOLODataset(num_frames=num_frames)\n",
    "data_loader = data.DataLoader(shark_dataset, batch_size=2, num_workers=1, shuffle=True)"
   ]
  },
  {
   "cell_type": "code",
   "execution_count": 4,
   "metadata": {},
   "outputs": [],
   "source": [
    "model = yolo3d.YOLO3D(num_frames=num_frames, num_features=num_features)"
   ]
  },
  {
   "cell_type": "code",
   "execution_count": 5,
   "metadata": {},
   "outputs": [],
   "source": [
    "model = model.to(device=device)"
   ]
  },
  {
   "cell_type": "code",
   "execution_count": 6,
   "metadata": {},
   "outputs": [],
   "source": [
    "item = shark_dataset.__getitem__(0)\n",
    "\n",
    "item = item.to(device=device)"
   ]
  },
  {
   "cell_type": "code",
   "execution_count": 7,
   "metadata": {},
   "outputs": [],
   "source": [
    "\n",
    "def print_system_memory_usage():\n",
    "    memory = psutil.virtual_memory()\n",
    "    print(f\"System Memory Usage: {memory.percent}%\")\n",
    "\n",
    "def print_cpu_usage():\n",
    "    print(f\"CPU Usage: {psutil.cpu_percent()}%\")\n",
    "\n",
    "def print_gpu_memory_usage(handle):\n",
    "    info = pynvml.nvmlDeviceGetMemoryInfo(handle)\n",
    "    print(f\"GPU Memory Usage: {info.used / info.total * 100:.2f}%\")\n"
   ]
  },
  {
   "cell_type": "code",
   "execution_count": 8,
   "metadata": {},
   "outputs": [
    {
     "name": "stdout",
     "output_type": "stream",
     "text": [
      "System Memory Usage: 16.5%\n",
      "CPU Usage: 11.6%\n",
      "GPU Memory Usage: 13.53%\n",
      "System Memory Usage: 16.9%\n",
      "CPU Usage: 5.4%\n",
      "GPU Memory Usage: 74.78%\n"
     ]
    }
   ],
   "source": [
    "# Before prediction\n",
    "print_system_memory_usage()\n",
    "print_cpu_usage()\n",
    "print_gpu_memory_usage(handle)\n",
    "\n",
    "# Perform the model prediction\n",
    "model_output = model(item)\n",
    "\n",
    "# After prediction\n",
    "print_system_memory_usage()\n",
    "print_cpu_usage()\n",
    "print_gpu_memory_usage(handle)\n"
   ]
  }
 ],
 "metadata": {
  "kernelspec": {
   "display_name": "cs229proj",
   "language": "python",
   "name": "python3"
  },
  "language_info": {
   "codemirror_mode": {
    "name": "ipython",
    "version": 3
   },
   "file_extension": ".py",
   "mimetype": "text/x-python",
   "name": "python",
   "nbconvert_exporter": "python",
   "pygments_lexer": "ipython3",
   "version": "3.9.18"
  }
 },
 "nbformat": 4,
 "nbformat_minor": 2
}
