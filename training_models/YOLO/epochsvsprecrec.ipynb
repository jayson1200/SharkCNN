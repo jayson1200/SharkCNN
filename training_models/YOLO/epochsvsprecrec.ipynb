{
 "cells": [
  {
   "cell_type": "code",
   "execution_count": null,
   "metadata": {},
   "outputs": [],
   "source": [
    "import matplotlib.pyplot as plt\n",
    "import pandas as pd "
   ]
  },
  {
   "cell_type": "code",
   "execution_count": null,
   "metadata": {},
   "outputs": [],
   "source": [
    "epochs = pd.df[pd.df.columns[0]]\n",
    "mAP50 = pd.df[pd.df.columns[5]]\n",
    "recall = pd.df[pd.df.columns[6]]\n",
    "\n",
    "# Plotting with corrected column names\n",
    "plt.figure(figsize=(10, 6))\n",
    "plt.plot(epochs, mAP50, label='mAP50(B)', marker='o')\n",
    "plt.plot(epochs, recall, label='Recall(B)', marker='x')\n",
    "\n",
    "plt.title('Training Performance Metrics over Epochs')\n",
    "plt.xlabel('Epoch')\n",
    "plt.ylabel('Metrics')\n",
    "plt.legend()\n",
    "plt.grid(True)\n",
    "plt.show()"
   ]
  }
 ],
 "metadata": {
  "language_info": {
   "name": "python"
  }
 },
 "nbformat": 4,
 "nbformat_minor": 2
}
