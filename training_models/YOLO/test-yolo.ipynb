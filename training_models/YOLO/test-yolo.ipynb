{
 "cells": [
  {
   "cell_type": "code",
   "execution_count": 7,
   "metadata": {},
   "outputs": [],
   "source": [
    "from ultralytics import YOLO\n",
    "import os \n",
    "from IPython.display import display, Image\n",
    "from IPython import display\n",
    "import cv2\n",
    "display.clear_output()"
   ]
  },
  {
   "cell_type": "code",
   "execution_count": 8,
   "metadata": {},
   "outputs": [],
   "source": [
    "model = YOLO(\"./runs/obb/train2/weights/best.pt\")"
   ]
  },
  {
   "cell_type": "code",
   "execution_count": 9,
   "metadata": {},
   "outputs": [
    {
     "name": "stdout",
     "output_type": "stream",
     "text": [
      "Ultralytics YOLOv8.1.14 🚀 Python-3.9.18 torch-2.2.0 CUDA:0 (NVIDIA GeForce RTX 4090, 24217MiB)\n",
      "YOLOv8x-obb summary (fused): 287 layers, 69450054 parameters, 0 gradients, 263.2 GFLOPs\n"
     ]
    },
    {
     "name": "stderr",
     "output_type": "stream",
     "text": [
      "\u001b[34m\u001b[1mval: \u001b[0mScanning /home/meribejayson/Desktop/Projects/SharkCNN/datasets-reduced/megaset/test/labels... 13087 images, 7291 backgrounds, 0 corrupt: 100%|██████████| 13087/13087 [00:02<00:00, 5882.00it/s]\n"
     ]
    },
    {
     "name": "stdout",
     "output_type": "stream",
     "text": [
      "\u001b[34m\u001b[1mval: \u001b[0mNew cache created: /home/meribejayson/Desktop/Projects/SharkCNN/datasets-reduced/megaset/test/labels.cache\n"
     ]
    },
    {
     "name": "stderr",
     "output_type": "stream",
     "text": [
      "                 Class     Images  Instances      Box(P          R      mAP50  mAP50-95): 100%|██████████| 818/818 [02:46<00:00,  4.91it/s]\n"
     ]
    },
    {
     "name": "stdout",
     "output_type": "stream",
     "text": [
      "                   all      13087      16327      0.544      0.101      0.334      0.124\n",
      "Speed: 0.1ms preprocess, 12.2ms inference, 0.0ms loss, 0.2ms postprocess per image\n",
      "Saving runs/obb/val9/predictions.json...\n",
      "Results saved to \u001b[1mruns/obb/val9\u001b[0m\n"
     ]
    },
    {
     "data": {
      "text/plain": [
       "array([    0.12437])"
      ]
     },
     "execution_count": 9,
     "metadata": {},
     "output_type": "execute_result"
    }
   ],
   "source": [
    "metrics = model.val(data='../../datasets-reduced/megaset/data.yaml', split=\"test\", device=0, batch=16, save_json=True, plots=True)  # no arguments needed, dataset and settings remembered\n",
    "metrics.box.map    # map50-95(B)\n",
    "metrics.box.map50  # map50(B)\n",
    "metrics.box.map75  # map75(B)\n",
    "metrics.box.maps   # a list contains map50-95(B) of each category"
   ]
  }
 ],
 "metadata": {
  "kernelspec": {
   "display_name": "cs229proj",
   "language": "python",
   "name": "python3"
  },
  "language_info": {
   "codemirror_mode": {
    "name": "ipython",
    "version": 3
   },
   "file_extension": ".py",
   "mimetype": "text/x-python",
   "name": "python",
   "nbconvert_exporter": "python",
   "pygments_lexer": "ipython3",
   "version": "3.9.18"
  }
 },
 "nbformat": 4,
 "nbformat_minor": 2
}
